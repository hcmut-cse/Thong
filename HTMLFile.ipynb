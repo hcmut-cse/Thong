{
 "cells": [
  {
   "cell_type": "code",
   "execution_count": 6,
   "metadata": {},
   "outputs": [
    {
     "name": "stdout",
     "output_type": "stream",
     "text": [
      "[('ONE', '11'), ('COMBINED TRANSPORT \\nBILL OF LADING', '8'), ('B L NO', '3'), ('ONEYSGNV44586300', '6'), ('Shipper/Exporter (complex name and address)', '3'), ('Booking No', '3'), ('AGREXPORT JOINT STOCK COMPANY  \\n(AGREXPORT JSC)  \\n135 PASTEUR, WARD 6, DIST.3  \\nHOCHIMINH CITY, VIETNAM', '6'), ('Exporter references', '3'), ('Consignee (complex name and address)', '3'), ('Forwarding agent - references', '3'), ('AL GARAS FOR SPICES & HERBS   \\n73 AL HORRIA ROAD, ALEXANDRIA, EGYPT  \\nTE: +(203)3939213/4  FAX: (+203)3939894', '6'), ('Notify Paty (complex name and address)', '3'), ('AL GARAS FOR SPICES & HERBS   \\n73 AL HORRIA ROAD, ALEXANDRIA, EGYPT  \\nTE: +(203)3939213/4  FAX: (+203)3939894', '6'), ('Point and country of Origin', '3'), ('Domestic routing / export intruction', '3'), ('Precarriage by', '3'), ('ONE AQUILA V.004W', '6'), ('Place of receipt', '3'), ('HOCHIMINH CITY', '6'), ('Vessel', '3'), ('Port of loading', '3'), ('Onward inland routing', '3'), ('Port of discharge', '3'), ('EL DEKHEILA', '6'), ('Place of dilivery', '3'), ('EL DEKHEILA', '6'), (\"CARRIER'S RECEIPT\", '6'), ('Container No ./Seal No. \\nMarks and Numbers', '3'), ('No. of Containes \\nor pkgs', '3'), ('FCL/FCL', '6'), ('640 BAGS', '6'), ('PARTICULARS FURNISHED BY SHIPPER - CARRIER NOT RESPONSIBLE', '6'), ('Kind of packages ; description of goods', '3'), ('Gross Weight', '3'), ('Mesasurement', '3'), ('CONT NO', '6'), ('SEAL NO', '6'), ('BAGS', '6'), ('N.W (MTS)', '6'), ('G.W (MTS)', '6'), ('TGHU1721267', '6'), ('VN312253A', '6'), ('NYKU3352112', '6'), ('VN312254A', '6'), ('TOTAL:', '6'), ('320', '6'), ('320', '6'), ('640', '6'), ('19.200', '6'), ('19.200', '6'), ('38.400', '6'), ('19.424', '6'), ('19.424', '6'), ('38.848', '6'), ('VIETNAM ROBUSTA COFFEE BEANS GRADE 1 SCREEN 18', '6'), ('MARKINGS: \\nAS PER ATTACHED FILE', '6'), ('Freight & Charges', '3'), ('Rate', '3'), ('Unit', '3'), ('Collect', '3'), ('SHIPMENT IN BAGS \\nTOTAL: 640 BAGS   \\nTOTAL N.W : 38.400 MTS', '6'), ('TOTAL G.W : 38.848 MTS', '6'), ('FCL/FCL \\nFREIGHT PREPAID  \\nEACH CONTAINER WAS LINED W ITH CARTON 3 PLIES ON SIX \\nSIDES  \\n21 FREE DEMURRAGE DAYS AT DESTINATION PORT \\nINTENDED CONNECTING VESSEL: ??????????? \\nHS CODE: 090111 (DO NOT SHOW ON BILL)  \\nPLS SENT DRAFT B/L AS SOON AS POSSIBLE.', '6'), ('Prepaid', '3'), ('Declared Value Charges \\n(see clause 6) for \\nDeclared Value of US $', '3'), ('Number og Original;l B(s)/L', '3'), ('Total Prepaid', '3'), ('Total collect', '3'), ('Place of issue', '3'), ('HOCHIMINH CITY', '6'), ('Date', '3'), ('APR 12,2019', '6'), ('By', '3'), ('As Agents for the Master.', '3'), ('', '6'), ('', '6'), ('', '6'), ('', '11'), ('Page: 1', '6')]\n"
     ]
    },
    {
     "name": "stderr",
     "output_type": "stream",
     "text": [
      "/home/neymar/anaconda3/lib/python3.6/site-packages/bs4/__init__.py:181: UserWarning: No parser was explicitly specified, so I'm using the best available HTML parser for this system (\"lxml\"). This usually isn't a problem, but if you run this code on another system, or in a different virtual environment, it may use a different parser and behave differently.\n",
      "\n",
      "The code that caused this warning is on line 193 of the file /home/neymar/anaconda3/lib/python3.6/runpy.py. To get rid of this warning, change code that looks like this:\n",
      "\n",
      " BeautifulSoup(YOUR_MARKUP})\n",
      "\n",
      "to this:\n",
      "\n",
      " BeautifulSoup(YOUR_MARKUP, \"lxml\")\n",
      "\n",
      "  markup_type=markup_type))\n"
     ]
    }
   ],
   "source": [
    "from bs4 import BeautifulSoup\n",
    "import re\n",
    "htmlData = open('output.html', 'r')\n",
    "soup = BeautifulSoup(htmlData)\n",
    "\n",
    "font_spans = [ data for data in soup.select('span') if 'font-size' in str(data) ]\n",
    "output = []\n",
    "for i in font_spans:\n",
    "    tup = ()\n",
    "    fonts_size = re.search(r'(?is)(font-size:)(.*?)(px)',str(i.get('style'))).group(2)\n",
    "    tup = (str(i.text).strip(),fonts_size.strip())\n",
    "    output.append(tup)\n",
    "\n",
    "print(output)"
   ]
  },
  {
   "cell_type": "code",
   "execution_count": 14,
   "metadata": {},
   "outputs": [
    {
     "data": {
      "text/plain": [
       "[('ONE', '11'),\n",
       " ('COMBINED TRANSPORT \\nBILL OF LADING', '8'),\n",
       " ('B L NO', '3'),\n",
       " ('ONEYSGNV44586300', '6'),\n",
       " ('Shipper/Exporter (complex name and address)', '3'),\n",
       " ('Booking No', '3'),\n",
       " ('AGREXPORT JOINT STOCK COMPANY  \\n(AGREXPORT JSC)  \\n135 PASTEUR, WARD 6, DIST.3  \\nHOCHIMINH CITY, VIETNAM',\n",
       "  '6'),\n",
       " ('Exporter references', '3'),\n",
       " ('Consignee (complex name and address)', '3'),\n",
       " ('Forwarding agent - references', '3'),\n",
       " ('AL GARAS FOR SPICES & HERBS   \\n73 AL HORRIA ROAD, ALEXANDRIA, EGYPT  \\nTE: +(203)3939213/4  FAX: (+203)3939894',\n",
       "  '6'),\n",
       " ('Notify Paty (complex name and address)', '3'),\n",
       " ('AL GARAS FOR SPICES & HERBS   \\n73 AL HORRIA ROAD, ALEXANDRIA, EGYPT  \\nTE: +(203)3939213/4  FAX: (+203)3939894',\n",
       "  '6'),\n",
       " ('Point and country of Origin', '3'),\n",
       " ('Domestic routing / export intruction', '3'),\n",
       " ('Shipper \\nmemoranda \\nnot part of \\nBill of lading', '19'),\n",
       " ('Precarriage by', '3'),\n",
       " ('ONE AQUILA V.004W', '6'),\n",
       " ('Place of receipt', '3'),\n",
       " ('HOCHIMINH CITY', '6'),\n",
       " ('Vessel', '3'),\n",
       " ('Port of loading', '3'),\n",
       " ('Onward inland routing', '3'),\n",
       " ('Port of discharge', '3'),\n",
       " ('EL DEKHEILA', '6'),\n",
       " ('Place of dilivery', '3'),\n",
       " ('EL DEKHEILA', '6'),\n",
       " (\"CARRIER'S RECEIPT\", '6'),\n",
       " ('Container No ./Seal No. \\nMarks and Numbers', '3'),\n",
       " ('No. of Containes \\nor pkgs', '3'),\n",
       " ('FCL/FCL', '6'),\n",
       " ('640 BAGS', '6'),\n",
       " ('PARTICULARS FURNISHED BY SHIPPER - CARRIER NOT RESPONSIBLE', '6'),\n",
       " ('Kind of packages ; description of goods', '3'),\n",
       " ('Gross Weight', '3'),\n",
       " ('Mesasurement', '3'),\n",
       " ('CONT NO', '6'),\n",
       " ('SEAL NO', '6'),\n",
       " ('BAGS', '6'),\n",
       " ('N.W (MTS)', '6'),\n",
       " ('G.W (MTS)', '6'),\n",
       " ('TGHU1721267', '6'),\n",
       " ('VN312253A', '6'),\n",
       " ('NYKU3352112', '6'),\n",
       " ('VN312254A', '6'),\n",
       " ('TOTAL:', '6'),\n",
       " ('320', '6'),\n",
       " ('320', '6'),\n",
       " ('640', '6'),\n",
       " ('19.200', '6'),\n",
       " ('19.200', '6'),\n",
       " ('38.400', '6'),\n",
       " ('19.424', '6'),\n",
       " ('19.424', '6'),\n",
       " ('38.848', '6'),\n",
       " ('VIETNAM ROBUSTA COFFEE BEANS GRADE 1 SCREEN 18', '6'),\n",
       " ('MARKINGS: \\nAS PER ATTACHED FILE', '6'),\n",
       " ('Freight & Charges', '3'),\n",
       " ('Rate', '3'),\n",
       " ('Unit', '3'),\n",
       " ('Collect', '3'),\n",
       " ('SHIPMENT IN BAGS \\nTOTAL: 640 BAGS   \\nTOTAL N.W : 38.400 MTS', '6'),\n",
       " ('TOTAL G.W : 38.848 MTS', '6'),\n",
       " ('FCL/FCL \\nFREIGHT PREPAID  \\nEACH CONTAINER WAS LINED W ITH CARTON 3 PLIES ON SIX \\nSIDES  \\n21 FREE DEMURRAGE DAYS AT DESTINATION PORT \\nINTENDED CONNECTING VESSEL: ??????????? \\nHS CODE: 090111 (DO NOT SHOW ON BILL)  \\nPLS SENT DRAFT B/L AS SOON AS POSSIBLE.',\n",
       "  '6'),\n",
       " ('Prepaid', '3'),\n",
       " ('Declared Value Charges \\n(see clause 6) for \\nDeclared Value of US $', '3'),\n",
       " ('Number og Original;l B(s)/L', '3'),\n",
       " ('Total Prepaid', '3'),\n",
       " ('Total collect', '3'),\n",
       " ('Place of issue', '3'),\n",
       " ('HOCHIMINH CITY', '6'),\n",
       " ('Date', '3'),\n",
       " ('APR 12,2019', '6'),\n",
       " ('By', '3'),\n",
       " ('As Agents for the Master.', '3'),\n",
       " ('', '6'),\n",
       " ('', '6'),\n",
       " ('', '6'),\n",
       " ('', '11'),\n",
       " ('Page: 1', '6')]"
      ]
     },
     "execution_count": 14,
     "metadata": {},
     "output_type": "execute_result"
    }
   ],
   "source": [
    "output"
   ]
  },
  {
   "cell_type": "code",
   "execution_count": 2,
   "metadata": {
    "scrolled": true
   },
   "outputs": [
    {
     "name": "stdout",
     "output_type": "stream",
     "text": [
      "libpng warning: iCCP: known incorrect sRGB profile\n",
      "libpng warning: iCCP: known incorrect sRGB profile\n",
      "Loading page (1/2)\n",
      "[>                                                           ] 0%\r",
      "[===============>                                            ] 26%\r",
      "[============================================================] 100%\r",
      "Printing pages (2/2)                                               \n",
      "[>                                                           ] \r",
      "Done                                                           \n"
     ]
    },
    {
     "data": {
      "text/plain": [
       "True"
      ]
     },
     "execution_count": 2,
     "metadata": {},
     "output_type": "execute_result"
    }
   ],
   "source": [
    "import pdfkit\n",
    "pdfkit.from_file('output.html', 'out.pdf') "
   ]
  }
 ],
 "metadata": {
  "kernelspec": {
   "display_name": "Python 3",
   "language": "python",
   "name": "python3"
  },
  "language_info": {
   "codemirror_mode": {
    "name": "ipython",
    "version": 3
   },
   "file_extension": ".py",
   "mimetype": "text/x-python",
   "name": "python",
   "nbconvert_exporter": "python",
   "pygments_lexer": "ipython3",
   "version": "3.6.5"
  }
 },
 "nbformat": 4,
 "nbformat_minor": 2
}
